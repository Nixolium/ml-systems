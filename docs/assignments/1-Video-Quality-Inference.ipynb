{
 "cells": [
  {
   "cell_type": "markdown",
   "metadata": {
    "colab_type": "text",
    "id": "zbGBJegvBuXV"
   },
   "source": [
    "# Assignment: Video Quality Inference\n",
    "\n",
    "To this point in the class, you have learned various techniques for leading and analyzing packet captures of various types, generating features from those packet captures, and training and evaluating models using those features.\n",
    "\n",
    "In this assignment, you will put all of this together, using a network traffic trace to train a model to automatically infer video quality of experience from a labeled traffic trace.\n",
    "\n",
    "## Part 1: Warmup\n",
    "\n",
    "The first part of this assignment builds directly on the hands-on activities but extends them slightly.\n",
    "\n",
    "### Extract Features from the Network Traffic\n",
    "\n",
    "Load the `netflix.pcap` file, which is a packet trace that includes network traffic. \n"
   ]
  },
  {
   "cell_type": "code",
   "execution_count": 70,
   "metadata": {},
   "outputs": [],
   "source": [
    "import logging\n",
    "logging.getLogger(\"scapy.runtime\").setLevel(logging.ERROR)\n",
    "\n",
    "from netml.pparser.parser import PCAP\n",
    "from netml.utils.tool import dump_data, load_data\n",
    "\n",
    "import pandas as pd"
   ]
  },
  {
   "cell_type": "code",
   "execution_count": 71,
   "metadata": {},
   "outputs": [],
   "source": [
    "pcap = PCAP('../notebooks/data/netflix.pcap', flow_ptks_thres=2, verbose=10)"
   ]
  },
  {
   "cell_type": "code",
   "execution_count": 77,
   "metadata": {},
   "outputs": [
    {
     "name": "stdout",
     "output_type": "stream",
     "text": [
      "'_pcap2pandas()' starts at 2023-10-21 23:12:37\n",
      "'_pcap2pandas()' ends at 2023-10-21 23:13:28 and takes 0.84 mins.\n"
     ]
    }
   ],
   "source": [
    "pcap.pcap2pandas()\n",
    "\n",
    "pdf = pcap.df"
   ]
  },
  {
   "cell_type": "markdown",
   "metadata": {
    "colab_type": "text",
    "id": "TOPPsKpYB6PS"
   },
   "source": [
    "### Identifying the Service Type\n",
    "\n",
    "Use the DNS traffic to filter the packet trace for Netflix traffic."
   ]
  },
  {
   "cell_type": "code",
   "execution_count": 211,
   "metadata": {},
   "outputs": [],
   "source": [
    "NF_DOMAINS = [\"nflxvideo\", \n",
    "              \"netflix\", \n",
    "              \"nflxso\", \n",
    "              \"nflxext\"]"
   ]
  },
  {
   "cell_type": "code",
   "execution_count": 213,
   "metadata": {},
   "outputs": [],
   "source": [
    "nfre = '|'.join(NF_DOMAINS)"
   ]
  },
  {
   "cell_type": "code",
   "execution_count": 214,
   "metadata": {},
   "outputs": [
    {
     "data": {
      "text/html": [
       "<div>\n",
       "<style scoped>\n",
       "    .dataframe tbody tr th:only-of-type {\n",
       "        vertical-align: middle;\n",
       "    }\n",
       "\n",
       "    .dataframe tbody tr th {\n",
       "        vertical-align: top;\n",
       "    }\n",
       "\n",
       "    .dataframe thead th {\n",
       "        text-align: right;\n",
       "    }\n",
       "</style>\n",
       "<table border=\"1\" class=\"dataframe\">\n",
       "  <thead>\n",
       "    <tr style=\"text-align: right;\">\n",
       "      <th></th>\n",
       "      <th>datetime</th>\n",
       "      <th>dns_query</th>\n",
       "      <th>dns_resp</th>\n",
       "      <th>ip_dst</th>\n",
       "      <th>ip_dst_int</th>\n",
       "      <th>ip_src</th>\n",
       "      <th>ip_src_int</th>\n",
       "      <th>is_dns</th>\n",
       "      <th>length</th>\n",
       "      <th>mac_dst</th>\n",
       "      <th>mac_dst_int</th>\n",
       "      <th>mac_src</th>\n",
       "      <th>mac_src_int</th>\n",
       "      <th>port_dst</th>\n",
       "      <th>port_src</th>\n",
       "      <th>protocol</th>\n",
       "      <th>time</th>\n",
       "      <th>time_normed</th>\n",
       "    </tr>\n",
       "  </thead>\n",
       "  <tbody>\n",
       "    <tr>\n",
       "      <th>0</th>\n",
       "      <td>2018-02-11 08:10:00</td>\n",
       "      <td>(fonts.gstatic.com.,)</td>\n",
       "      <td>None</td>\n",
       "      <td>128.93.77.234</td>\n",
       "      <td>2153598442.000</td>\n",
       "      <td>192.168.43.72</td>\n",
       "      <td>3232246600.000</td>\n",
       "      <td>True</td>\n",
       "      <td>77</td>\n",
       "      <td>a0:ce:c8:0d:2b:a7</td>\n",
       "      <td>176809980013479</td>\n",
       "      <td>e4:ce:8f:01:4c:54</td>\n",
       "      <td>251575813622868</td>\n",
       "      <td>53.000</td>\n",
       "      <td>55697.000</td>\n",
       "      <td>UDP</td>\n",
       "      <td>1518358200.534682</td>\n",
       "      <td>0.000000</td>\n",
       "    </tr>\n",
       "    <tr>\n",
       "      <th>1</th>\n",
       "      <td>2018-02-11 08:10:00</td>\n",
       "      <td>(fonts.gstatic.com.,)</td>\n",
       "      <td>None</td>\n",
       "      <td>128.93.77.234</td>\n",
       "      <td>2153598442.000</td>\n",
       "      <td>192.168.43.72</td>\n",
       "      <td>3232246600.000</td>\n",
       "      <td>True</td>\n",
       "      <td>77</td>\n",
       "      <td>a0:ce:c8:0d:2b:a7</td>\n",
       "      <td>176809980013479</td>\n",
       "      <td>e4:ce:8f:01:4c:54</td>\n",
       "      <td>251575813622868</td>\n",
       "      <td>53.000</td>\n",
       "      <td>59884.000</td>\n",
       "      <td>UDP</td>\n",
       "      <td>1518358200.534832</td>\n",
       "      <td>0.000150</td>\n",
       "    </tr>\n",
       "    <tr>\n",
       "      <th>2</th>\n",
       "      <td>2018-02-11 08:10:00</td>\n",
       "      <td>(googleads.g.doubleclick.net.,)</td>\n",
       "      <td>None</td>\n",
       "      <td>128.93.77.234</td>\n",
       "      <td>2153598442.000</td>\n",
       "      <td>192.168.43.72</td>\n",
       "      <td>3232246600.000</td>\n",
       "      <td>True</td>\n",
       "      <td>87</td>\n",
       "      <td>a0:ce:c8:0d:2b:a7</td>\n",
       "      <td>176809980013479</td>\n",
       "      <td>e4:ce:8f:01:4c:54</td>\n",
       "      <td>251575813622868</td>\n",
       "      <td>53.000</td>\n",
       "      <td>61223.000</td>\n",
       "      <td>UDP</td>\n",
       "      <td>1518358200.539408</td>\n",
       "      <td>0.004726</td>\n",
       "    </tr>\n",
       "    <tr>\n",
       "      <th>3</th>\n",
       "      <td>2018-02-11 08:10:00</td>\n",
       "      <td>(googleads.g.doubleclick.net.,)</td>\n",
       "      <td>None</td>\n",
       "      <td>128.93.77.234</td>\n",
       "      <td>2153598442.000</td>\n",
       "      <td>192.168.43.72</td>\n",
       "      <td>3232246600.000</td>\n",
       "      <td>True</td>\n",
       "      <td>87</td>\n",
       "      <td>a0:ce:c8:0d:2b:a7</td>\n",
       "      <td>176809980013479</td>\n",
       "      <td>e4:ce:8f:01:4c:54</td>\n",
       "      <td>251575813622868</td>\n",
       "      <td>53.000</td>\n",
       "      <td>58785.000</td>\n",
       "      <td>UDP</td>\n",
       "      <td>1518358200.541204</td>\n",
       "      <td>0.006522</td>\n",
       "    </tr>\n",
       "  </tbody>\n",
       "</table>\n",
       "</div>"
      ],
      "text/plain": [
       "             datetime                        dns_query dns_resp         ip_dst     ip_dst_int  \\\n",
       "0 2018-02-11 08:10:00            (fonts.gstatic.com.,)     None  128.93.77.234 2153598442.000   \n",
       "1 2018-02-11 08:10:00            (fonts.gstatic.com.,)     None  128.93.77.234 2153598442.000   \n",
       "2 2018-02-11 08:10:00  (googleads.g.doubleclick.net.,)     None  128.93.77.234 2153598442.000   \n",
       "3 2018-02-11 08:10:00  (googleads.g.doubleclick.net.,)     None  128.93.77.234 2153598442.000   \n",
       "\n",
       "          ip_src     ip_src_int  is_dns  length            mac_dst      mac_dst_int  \\\n",
       "0  192.168.43.72 3232246600.000    True      77  a0:ce:c8:0d:2b:a7  176809980013479   \n",
       "1  192.168.43.72 3232246600.000    True      77  a0:ce:c8:0d:2b:a7  176809980013479   \n",
       "2  192.168.43.72 3232246600.000    True      87  a0:ce:c8:0d:2b:a7  176809980013479   \n",
       "3  192.168.43.72 3232246600.000    True      87  a0:ce:c8:0d:2b:a7  176809980013479   \n",
       "\n",
       "             mac_src      mac_src_int  port_dst  port_src protocol               time time_normed  \n",
       "0  e4:ce:8f:01:4c:54  251575813622868    53.000 55697.000      UDP  1518358200.534682    0.000000  \n",
       "1  e4:ce:8f:01:4c:54  251575813622868    53.000 59884.000      UDP  1518358200.534832    0.000150  \n",
       "2  e4:ce:8f:01:4c:54  251575813622868    53.000 61223.000      UDP  1518358200.539408    0.004726  \n",
       "3  e4:ce:8f:01:4c:54  251575813622868    53.000 58785.000      UDP  1518358200.541204    0.006522  "
      ]
     },
     "execution_count": 214,
     "metadata": {},
     "output_type": "execute_result"
    }
   ],
   "source": [
    "df = pdf[pdf['is_dns']]\n",
    "df.head(4)\n"
   ]
  },
  {
   "cell_type": "code",
   "execution_count": 215,
   "metadata": {},
   "outputs": [],
   "source": [
    "def get_first_value(t):\n",
    "    return t[0]\n",
    "df = df.applymap(lambda x: get_first_value(x) if isinstance(x, tuple) else x)"
   ]
  },
  {
   "cell_type": "code",
   "execution_count": 218,
   "metadata": {},
   "outputs": [
    {
     "name": "stdout",
     "output_type": "stream",
     "text": [
      "34\n"
     ]
    },
    {
     "data": {
      "text/html": [
       "<div>\n",
       "<style scoped>\n",
       "    .dataframe tbody tr th:only-of-type {\n",
       "        vertical-align: middle;\n",
       "    }\n",
       "\n",
       "    .dataframe tbody tr th {\n",
       "        vertical-align: top;\n",
       "    }\n",
       "\n",
       "    .dataframe thead th {\n",
       "        text-align: right;\n",
       "    }\n",
       "</style>\n",
       "<table border=\"1\" class=\"dataframe\">\n",
       "  <thead>\n",
       "    <tr style=\"text-align: right;\">\n",
       "      <th></th>\n",
       "      <th>datetime</th>\n",
       "      <th>dns_query</th>\n",
       "      <th>dns_resp</th>\n",
       "      <th>ip_dst</th>\n",
       "      <th>ip_dst_int</th>\n",
       "      <th>ip_src</th>\n",
       "      <th>ip_src_int</th>\n",
       "      <th>is_dns</th>\n",
       "      <th>length</th>\n",
       "      <th>mac_dst</th>\n",
       "      <th>mac_dst_int</th>\n",
       "      <th>mac_src</th>\n",
       "      <th>mac_src_int</th>\n",
       "      <th>port_dst</th>\n",
       "      <th>port_src</th>\n",
       "      <th>protocol</th>\n",
       "      <th>time</th>\n",
       "      <th>time_normed</th>\n",
       "    </tr>\n",
       "  </thead>\n",
       "  <tbody>\n",
       "    <tr>\n",
       "      <th>0</th>\n",
       "      <td>2018-02-11 08:10:00</td>\n",
       "      <td>fonts.gstatic.com.</td>\n",
       "      <td>None</td>\n",
       "      <td>128.93.77.234</td>\n",
       "      <td>2153598442.000</td>\n",
       "      <td>192.168.43.72</td>\n",
       "      <td>3232246600.000</td>\n",
       "      <td>True</td>\n",
       "      <td>77</td>\n",
       "      <td>a0:ce:c8:0d:2b:a7</td>\n",
       "      <td>176809980013479</td>\n",
       "      <td>e4:ce:8f:01:4c:54</td>\n",
       "      <td>251575813622868</td>\n",
       "      <td>53.000</td>\n",
       "      <td>55697.000</td>\n",
       "      <td>UDP</td>\n",
       "      <td>1518358200.534682</td>\n",
       "      <td>0.000000</td>\n",
       "    </tr>\n",
       "    <tr>\n",
       "      <th>1</th>\n",
       "      <td>2018-02-11 08:10:00</td>\n",
       "      <td>fonts.gstatic.com.</td>\n",
       "      <td>None</td>\n",
       "      <td>128.93.77.234</td>\n",
       "      <td>2153598442.000</td>\n",
       "      <td>192.168.43.72</td>\n",
       "      <td>3232246600.000</td>\n",
       "      <td>True</td>\n",
       "      <td>77</td>\n",
       "      <td>a0:ce:c8:0d:2b:a7</td>\n",
       "      <td>176809980013479</td>\n",
       "      <td>e4:ce:8f:01:4c:54</td>\n",
       "      <td>251575813622868</td>\n",
       "      <td>53.000</td>\n",
       "      <td>59884.000</td>\n",
       "      <td>UDP</td>\n",
       "      <td>1518358200.534832</td>\n",
       "      <td>0.000150</td>\n",
       "    </tr>\n",
       "    <tr>\n",
       "      <th>86</th>\n",
       "      <td>2018-02-11 08:10:02</td>\n",
       "      <td>www.netflix.com.</td>\n",
       "      <td>None</td>\n",
       "      <td>128.93.77.234</td>\n",
       "      <td>2153598442.000</td>\n",
       "      <td>192.168.43.72</td>\n",
       "      <td>3232246600.000</td>\n",
       "      <td>True</td>\n",
       "      <td>75</td>\n",
       "      <td>a0:ce:c8:0d:2b:a7</td>\n",
       "      <td>176809980013479</td>\n",
       "      <td>e4:ce:8f:01:4c:54</td>\n",
       "      <td>251575813622868</td>\n",
       "      <td>53.000</td>\n",
       "      <td>43209.000</td>\n",
       "      <td>UDP</td>\n",
       "      <td>1518358202.362996</td>\n",
       "      <td>1.828314</td>\n",
       "    </tr>\n",
       "    <tr>\n",
       "      <th>87</th>\n",
       "      <td>2018-02-11 08:10:02</td>\n",
       "      <td>assets.nflxext.com.</td>\n",
       "      <td>None</td>\n",
       "      <td>128.93.77.234</td>\n",
       "      <td>2153598442.000</td>\n",
       "      <td>192.168.43.72</td>\n",
       "      <td>3232246600.000</td>\n",
       "      <td>True</td>\n",
       "      <td>78</td>\n",
       "      <td>a0:ce:c8:0d:2b:a7</td>\n",
       "      <td>176809980013479</td>\n",
       "      <td>e4:ce:8f:01:4c:54</td>\n",
       "      <td>251575813622868</td>\n",
       "      <td>53.000</td>\n",
       "      <td>28162.000</td>\n",
       "      <td>UDP</td>\n",
       "      <td>1518358202.363168</td>\n",
       "      <td>1.828486</td>\n",
       "    </tr>\n",
       "    <tr>\n",
       "      <th>88</th>\n",
       "      <td>2018-02-11 08:10:02</td>\n",
       "      <td>codex.nflxext.com.</td>\n",
       "      <td>None</td>\n",
       "      <td>128.93.77.234</td>\n",
       "      <td>2153598442.000</td>\n",
       "      <td>192.168.43.72</td>\n",
       "      <td>3232246600.000</td>\n",
       "      <td>True</td>\n",
       "      <td>77</td>\n",
       "      <td>a0:ce:c8:0d:2b:a7</td>\n",
       "      <td>176809980013479</td>\n",
       "      <td>e4:ce:8f:01:4c:54</td>\n",
       "      <td>251575813622868</td>\n",
       "      <td>53.000</td>\n",
       "      <td>48245.000</td>\n",
       "      <td>UDP</td>\n",
       "      <td>1518358202.363441</td>\n",
       "      <td>1.828759</td>\n",
       "    </tr>\n",
       "  </tbody>\n",
       "</table>\n",
       "</div>"
      ],
      "text/plain": [
       "              datetime            dns_query dns_resp         ip_dst     ip_dst_int         ip_src  \\\n",
       "0  2018-02-11 08:10:00   fonts.gstatic.com.     None  128.93.77.234 2153598442.000  192.168.43.72   \n",
       "1  2018-02-11 08:10:00   fonts.gstatic.com.     None  128.93.77.234 2153598442.000  192.168.43.72   \n",
       "86 2018-02-11 08:10:02     www.netflix.com.     None  128.93.77.234 2153598442.000  192.168.43.72   \n",
       "87 2018-02-11 08:10:02  assets.nflxext.com.     None  128.93.77.234 2153598442.000  192.168.43.72   \n",
       "88 2018-02-11 08:10:02   codex.nflxext.com.     None  128.93.77.234 2153598442.000  192.168.43.72   \n",
       "\n",
       "       ip_src_int  is_dns  length            mac_dst      mac_dst_int            mac_src  \\\n",
       "0  3232246600.000    True      77  a0:ce:c8:0d:2b:a7  176809980013479  e4:ce:8f:01:4c:54   \n",
       "1  3232246600.000    True      77  a0:ce:c8:0d:2b:a7  176809980013479  e4:ce:8f:01:4c:54   \n",
       "86 3232246600.000    True      75  a0:ce:c8:0d:2b:a7  176809980013479  e4:ce:8f:01:4c:54   \n",
       "87 3232246600.000    True      78  a0:ce:c8:0d:2b:a7  176809980013479  e4:ce:8f:01:4c:54   \n",
       "88 3232246600.000    True      77  a0:ce:c8:0d:2b:a7  176809980013479  e4:ce:8f:01:4c:54   \n",
       "\n",
       "        mac_src_int  port_dst  port_src protocol               time time_normed  \n",
       "0   251575813622868    53.000 55697.000      UDP  1518358200.534682    0.000000  \n",
       "1   251575813622868    53.000 59884.000      UDP  1518358200.534832    0.000150  \n",
       "86  251575813622868    53.000 43209.000      UDP  1518358202.362996    1.828314  \n",
       "87  251575813622868    53.000 28162.000      UDP  1518358202.363168    1.828486  \n",
       "88  251575813622868    53.000 48245.000      UDP  1518358202.363441    1.828759  "
      ]
     },
     "execution_count": 218,
     "metadata": {},
     "output_type": "execute_result"
    }
   ],
   "source": [
    "nfre = '|'.join(NF_DOMAINS)\n",
    "onlynetflixdf = df[df['dns_query'].str.contains(nfre, regex=True, na=False) | df['dns_resp'].str.contains(nfre, regex=True, na=False)]\n",
    "print(len(nf_queries))\n",
    "nf_queries.head()"
   ]
  },
  {
   "cell_type": "markdown",
   "metadata": {
    "colab_type": "text",
    "id": "0qFV6q2OCCsK"
   },
   "source": [
    "### Generate Statistics\n",
    "\n",
    "Generate statistics and features for the Netflix traffic flows. Use the `netml` library or any other technique that you choose to generate a set of features that you think would be good features for your model. "
   ]
  },
  {
   "cell_type": "code",
   "execution_count": 219,
   "metadata": {},
   "outputs": [
    {
     "name": "stdout",
     "output_type": "stream",
     "text": [
      "'_pcap2flows()' starts at 2023-10-21 23:41:07\n",
      "pcap_file: ../notebooks/data/netflix.pcap\n",
      "ith_packets: 0\n",
      "ith_packets: 10000\n",
      "ith_packets: 20000\n",
      "ith_packets: 30000\n",
      "ith_packets: 40000\n",
      "ith_packets: 50000\n",
      "ith_packets: 60000\n",
      "ith_packets: 70000\n",
      "ith_packets: 80000\n",
      "ith_packets: 90000\n",
      "ith_packets: 100000\n",
      "ith_packets: 110000\n",
      "ith_packets: 120000\n",
      "ith_packets: 130000\n",
      "ith_packets: 140000\n",
      "len(flows): 275\n",
      "total number of flows: 275. Num of flows < 2 pkts: 91, and >=2 pkts: 184 without timeout splitting.\n",
      "kept flows: 184. Each of them has at least 2 pkts after timeout splitting.\n",
      "flow_durations.shape: (184, 1)\n",
      "        col_0\n",
      "count 184.000\n",
      "mean   82.331\n",
      "std   127.700\n",
      "min     1.138\n",
      "25%    14.428\n",
      "50%    17.122\n",
      "75%    71.087\n",
      "max   486.705\n",
      "<class 'pandas.core.frame.DataFrame'>\n",
      "RangeIndex: 184 entries, 0 to 183\n",
      "Data columns (total 1 columns):\n",
      " #   Column  Non-Null Count  Dtype  \n",
      "---  ------  --------------  -----  \n",
      " 0   col_0   184 non-null    float64\n",
      "dtypes: float64(1)\n",
      "memory usage: 1.6 KB\n",
      "None\n",
      "0th_flow: len(pkts): 12\n",
      "After splitting flows, the number of subflows: 184 and each of them has at least 2 packets.\n",
      "'_pcap2flows()' ends at 2023-10-21 23:41:46 and takes 0.6418 mins.\n"
     ]
    }
   ],
   "source": [
    "pcap.pcap2flows()"
   ]
  },
  {
   "cell_type": "code",
   "execution_count": 227,
   "metadata": {},
   "outputs": [
    {
     "name": "stdout",
     "output_type": "stream",
     "text": [
      "'_flow2features()' starts at 2023-10-21 23:45:15\n",
      "True\n",
      "'_flow2features()' ends at 2023-10-21 23:45:16 and takes 0.0222 mins.\n",
      "184\n"
     ]
    },
    {
     "data": {
      "text/html": [
       "<div>\n",
       "<style scoped>\n",
       "    .dataframe tbody tr th:only-of-type {\n",
       "        vertical-align: middle;\n",
       "    }\n",
       "\n",
       "    .dataframe tbody tr th {\n",
       "        vertical-align: top;\n",
       "    }\n",
       "\n",
       "    .dataframe thead th {\n",
       "        text-align: right;\n",
       "    }\n",
       "</style>\n",
       "<table border=\"1\" class=\"dataframe\">\n",
       "  <thead>\n",
       "    <tr style=\"text-align: right;\">\n",
       "      <th></th>\n",
       "      <th>0</th>\n",
       "      <th>1</th>\n",
       "      <th>2</th>\n",
       "      <th>3</th>\n",
       "      <th>4</th>\n",
       "      <th>5</th>\n",
       "      <th>6</th>\n",
       "      <th>7</th>\n",
       "      <th>8</th>\n",
       "      <th>9</th>\n",
       "      <th>10</th>\n",
       "      <th>11</th>\n",
       "    </tr>\n",
       "  </thead>\n",
       "  <tbody>\n",
       "    <tr>\n",
       "      <th>0</th>\n",
       "      <td>11.462</td>\n",
       "      <td>1.047</td>\n",
       "      <td>93.530</td>\n",
       "      <td>89.333</td>\n",
       "      <td>49.601</td>\n",
       "      <td>66.000</td>\n",
       "      <td>66.000</td>\n",
       "      <td>69.000</td>\n",
       "      <td>66.000</td>\n",
       "      <td>200.000</td>\n",
       "      <td>12.000</td>\n",
       "      <td>1072.000</td>\n",
       "    </tr>\n",
       "    <tr>\n",
       "      <th>1</th>\n",
       "      <td>248.797</td>\n",
       "      <td>0.269</td>\n",
       "      <td>22.283</td>\n",
       "      <td>82.746</td>\n",
       "      <td>41.922</td>\n",
       "      <td>66.000</td>\n",
       "      <td>66.000</td>\n",
       "      <td>66.000</td>\n",
       "      <td>54.000</td>\n",
       "      <td>200.000</td>\n",
       "      <td>67.000</td>\n",
       "      <td>5544.000</td>\n",
       "    </tr>\n",
       "    <tr>\n",
       "      <th>2</th>\n",
       "      <td>19.350</td>\n",
       "      <td>0.258</td>\n",
       "      <td>17.675</td>\n",
       "      <td>68.400</td>\n",
       "      <td>4.800</td>\n",
       "      <td>66.000</td>\n",
       "      <td>66.000</td>\n",
       "      <td>66.000</td>\n",
       "      <td>66.000</td>\n",
       "      <td>78.000</td>\n",
       "      <td>5.000</td>\n",
       "      <td>342.000</td>\n",
       "    </tr>\n",
       "    <tr>\n",
       "      <th>3</th>\n",
       "      <td>19.349</td>\n",
       "      <td>0.258</td>\n",
       "      <td>17.675</td>\n",
       "      <td>68.400</td>\n",
       "      <td>4.800</td>\n",
       "      <td>66.000</td>\n",
       "      <td>66.000</td>\n",
       "      <td>66.000</td>\n",
       "      <td>66.000</td>\n",
       "      <td>78.000</td>\n",
       "      <td>5.000</td>\n",
       "      <td>342.000</td>\n",
       "    </tr>\n",
       "  </tbody>\n",
       "</table>\n",
       "</div>"
      ],
      "text/plain": [
       "       0     1      2      3      4      5      6      7      8       9      10       11\n",
       "0  11.462 1.047 93.530 89.333 49.601 66.000 66.000 69.000 66.000 200.000 12.000 1072.000\n",
       "1 248.797 0.269 22.283 82.746 41.922 66.000 66.000 66.000 54.000 200.000 67.000 5544.000\n",
       "2  19.350 0.258 17.675 68.400  4.800 66.000 66.000 66.000 66.000  78.000  5.000  342.000\n",
       "3  19.349 0.258 17.675 68.400  4.800 66.000 66.000 66.000 66.000  78.000  5.000  342.000"
      ]
     },
     "execution_count": 227,
     "metadata": {},
     "output_type": "execute_result"
    }
   ],
   "source": [
    "pcap.flow2features('STATS', fft=False, header=False)\n",
    "stats = pd.DataFrame(pcap.features)\n",
    "print(len(stats))\n",
    "stats.head(4)"
   ]
  },
  {
   "cell_type": "markdown",
   "metadata": {
    "colab_type": "text",
    "id": "0qFV6q2OCCsK"
   },
   "source": [
    "**Write a brief justification for the features that you have chosen.**"
   ]
  },
  {
   "cell_type": "code",
   "execution_count": null,
   "metadata": {},
   "outputs": [],
   "source": []
  },
  {
   "cell_type": "markdown",
   "metadata": {},
   "source": [
    "<p>Candidates for features include IAT, STATS, SIZE, SAMP-NUM, and SAMP-SIZE. IAT and SIZE contained numerous \"zero\" points, and would likely prove difficult to use while training. Additionally, STATS has a large number of non-zero values as well as further statistics on packet size. This flexibility of nonzero data is what encouraged me to pick this feature."
   ]
  },
  {
   "cell_type": "markdown",
   "metadata": {
    "colab_type": "text",
    "id": "lBCP_2SBC2xj"
   },
   "source": [
    "### Inferring Segment downloads\n",
    "\n",
    "In addition to the features that you could generate using the `netml` library or similar, add to your feature vector a \"segment downloads rate\" feature, which indicates the number of video segments downloaded for a given time window.\n",
    "\n",
    "Note: If you are using the `netml` library, generating features with `SAMP` style options may be useful, as this option gives you time windows, and you can then simply add the segment download rate to that existing dataframe."
   ]
  },
  {
   "cell_type": "code",
   "execution_count": 230,
   "metadata": {},
   "outputs": [
    {
     "data": {
      "text/html": [
       "<div>\n",
       "<style scoped>\n",
       "    .dataframe tbody tr th:only-of-type {\n",
       "        vertical-align: middle;\n",
       "    }\n",
       "\n",
       "    .dataframe tbody tr th {\n",
       "        vertical-align: top;\n",
       "    }\n",
       "\n",
       "    .dataframe thead th {\n",
       "        text-align: right;\n",
       "    }\n",
       "</style>\n",
       "<table border=\"1\" class=\"dataframe\">\n",
       "  <thead>\n",
       "    <tr style=\"text-align: right;\">\n",
       "      <th></th>\n",
       "      <th>0</th>\n",
       "      <th>1</th>\n",
       "      <th>2</th>\n",
       "      <th>3</th>\n",
       "      <th>4</th>\n",
       "      <th>5</th>\n",
       "      <th>6</th>\n",
       "      <th>7</th>\n",
       "      <th>8</th>\n",
       "      <th>9</th>\n",
       "      <th>10</th>\n",
       "      <th>11</th>\n",
       "      <th>segment downloads rate</th>\n",
       "    </tr>\n",
       "  </thead>\n",
       "  <tbody>\n",
       "    <tr>\n",
       "      <th>0</th>\n",
       "      <td>11.462</td>\n",
       "      <td>1.047</td>\n",
       "      <td>93.530</td>\n",
       "      <td>89.333</td>\n",
       "      <td>49.601</td>\n",
       "      <td>66.000</td>\n",
       "      <td>66.000</td>\n",
       "      <td>69.000</td>\n",
       "      <td>66.000</td>\n",
       "      <td>200.000</td>\n",
       "      <td>12.000</td>\n",
       "      <td>1072.000</td>\n",
       "      <td>0</td>\n",
       "    </tr>\n",
       "    <tr>\n",
       "      <th>1</th>\n",
       "      <td>248.797</td>\n",
       "      <td>0.269</td>\n",
       "      <td>22.283</td>\n",
       "      <td>82.746</td>\n",
       "      <td>41.922</td>\n",
       "      <td>66.000</td>\n",
       "      <td>66.000</td>\n",
       "      <td>66.000</td>\n",
       "      <td>54.000</td>\n",
       "      <td>200.000</td>\n",
       "      <td>67.000</td>\n",
       "      <td>5544.000</td>\n",
       "      <td>0</td>\n",
       "    </tr>\n",
       "    <tr>\n",
       "      <th>2</th>\n",
       "      <td>19.350</td>\n",
       "      <td>0.258</td>\n",
       "      <td>17.675</td>\n",
       "      <td>68.400</td>\n",
       "      <td>4.800</td>\n",
       "      <td>66.000</td>\n",
       "      <td>66.000</td>\n",
       "      <td>66.000</td>\n",
       "      <td>66.000</td>\n",
       "      <td>78.000</td>\n",
       "      <td>5.000</td>\n",
       "      <td>342.000</td>\n",
       "      <td>0</td>\n",
       "    </tr>\n",
       "    <tr>\n",
       "      <th>3</th>\n",
       "      <td>19.349</td>\n",
       "      <td>0.258</td>\n",
       "      <td>17.675</td>\n",
       "      <td>68.400</td>\n",
       "      <td>4.800</td>\n",
       "      <td>66.000</td>\n",
       "      <td>66.000</td>\n",
       "      <td>66.000</td>\n",
       "      <td>66.000</td>\n",
       "      <td>78.000</td>\n",
       "      <td>5.000</td>\n",
       "      <td>342.000</td>\n",
       "      <td>0</td>\n",
       "    </tr>\n",
       "  </tbody>\n",
       "</table>\n",
       "</div>"
      ],
      "text/plain": [
       "        0     1      2      3      4      5      6      7      8       9     10       11  \\\n",
       "0  11.462 1.047 93.530 89.333 49.601 66.000 66.000 69.000 66.000 200.000 12.000 1072.000   \n",
       "1 248.797 0.269 22.283 82.746 41.922 66.000 66.000 66.000 54.000 200.000 67.000 5544.000   \n",
       "2  19.350 0.258 17.675 68.400  4.800 66.000 66.000 66.000 66.000  78.000  5.000  342.000   \n",
       "3  19.349 0.258 17.675 68.400  4.800 66.000 66.000 66.000 66.000  78.000  5.000  342.000   \n",
       "\n",
       "   segment downloads rate  \n",
       "0                       0  \n",
       "1                       0  \n",
       "2                       0  \n",
       "3                       0  "
      ]
     },
     "execution_count": 230,
     "metadata": {},
     "output_type": "execute_result"
    }
   ],
   "source": [
    "stats['segment downloads rate'] = 0\n",
    "stats.head(4)"
   ]
  },
  {
   "cell_type": "markdown",
   "metadata": {},
   "source": [
    "## Part 2: Video Quality Inference\n",
    "\n",
    "You will now load the complete video dataset from a previous study to train and test models based on these features to automatically infer the quality of a streaming video flow.\n",
    "\n",
    "For this part of the assignment, you will need two pickle files, which we provide for you by running the code below:\n",
    "\n",
    "```\n",
    "\n",
    "!gdown 'https://drive.google.com/uc?id=1N-Cf4dJ3fpak_AWgO05Fopq_XPYLVqdS' -O netflix_session.pkl\n",
    "!gdown 'https://drive.google.com/uc?id=1PHvEID7My6VZXZveCpQYy3lMo9RvMNTI' -O video_dataset.pkl\n",
    "\n",
    "```"
   ]
  },
  {
   "cell_type": "markdown",
   "metadata": {},
   "source": [
    "### Load the File\n",
    "\n",
    "Load the video dataset pickle file."
   ]
  },
  {
   "cell_type": "code",
   "execution_count": null,
   "metadata": {},
   "outputs": [],
   "source": []
  },
  {
   "cell_type": "markdown",
   "metadata": {},
   "source": [
    "### Clean the File\n",
    "\n",
    "1. The dataset contains video resolutions that are not valid. Remove entries in the dataset that do not contain a valid video resolution. Valid resolutions are 280, 360, 480, 720, 1080."
   ]
  },
  {
   "cell_type": "code",
   "execution_count": null,
   "metadata": {},
   "outputs": [],
   "source": []
  },
  {
   "cell_type": "markdown",
   "metadata": {},
   "source": [
    "2. The file also contains columns that are unnecessary (in fact, unhelpful!) for performing predictions. Identify those columns, and remove them."
   ]
  },
  {
   "cell_type": "code",
   "execution_count": null,
   "metadata": {},
   "outputs": [],
   "source": []
  },
  {
   "cell_type": "markdown",
   "metadata": {},
   "source": [
    "**Briefly explain why you removed those columns.**"
   ]
  },
  {
   "cell_type": "markdown",
   "metadata": {},
   "source": []
  },
  {
   "cell_type": "markdown",
   "metadata": {},
   "source": [
    "### Prepare Your Data\n",
    "\n",
    "Prepare your data matrix, determine your features and labels, and perform a train-test split on your data."
   ]
  },
  {
   "cell_type": "code",
   "execution_count": null,
   "metadata": {},
   "outputs": [],
   "source": []
  },
  {
   "cell_type": "markdown",
   "metadata": {},
   "source": [
    "### Train and Tune Your Model\n",
    "\n",
    "1. Select a model of your choice.\n",
    "2. Train the model using your training data."
   ]
  },
  {
   "cell_type": "code",
   "execution_count": null,
   "metadata": {},
   "outputs": [],
   "source": []
  },
  {
   "cell_type": "markdown",
   "metadata": {},
   "source": [
    "### Tune Your Model\n",
    "\n",
    "Perform hyperparameter tuning to find optimal parameters for your model."
   ]
  },
  {
   "cell_type": "code",
   "execution_count": null,
   "metadata": {},
   "outputs": [],
   "source": []
  },
  {
   "cell_type": "markdown",
   "metadata": {},
   "source": [
    "### Evaluate Your Model\n",
    "\n",
    "Evaluate your model accuracy according to the following metrics:\n",
    "\n",
    "1. Accuracy\n",
    "2. F1 Score\n",
    "3. Confusion Matrix\n",
    "4. ROC/AUC"
   ]
  },
  {
   "cell_type": "markdown",
   "metadata": {},
   "source": [
    "## Part 3: Predict the Ongoing Resolution of a Real Netflix Session\n",
    "\n",
    "Now that you have your model, it's time to put it in practice!\n",
    "\n",
    "Use a preprocessed Netflix video session to infer **and plot** the resolution at 10-second time intervals."
   ]
  },
  {
   "cell_type": "code",
   "execution_count": null,
   "metadata": {},
   "outputs": [],
   "source": []
  }
 ],
 "metadata": {
  "colab": {
   "authorship_tag": "ABX9TyM0Cd1i3qtplCsVAB9qTjxA",
   "collapsed_sections": [],
   "name": "pcap_processing_solution.ipynb",
   "provenance": []
  },
  "kernelspec": {
   "display_name": "Python 3 (ipykernel)",
   "language": "python",
   "name": "python3"
  },
  "language_info": {
   "codemirror_mode": {
    "name": "ipython",
    "version": 3
   },
   "file_extension": ".py",
   "mimetype": "text/x-python",
   "name": "python",
   "nbconvert_exporter": "python",
   "pygments_lexer": "ipython3",
   "version": "3.9.13"
  }
 },
 "nbformat": 4,
 "nbformat_minor": 1
}
